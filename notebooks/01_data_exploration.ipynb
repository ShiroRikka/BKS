{
 "cells": [
  {
   "cell_type": "code",
   "id": "initial_id",
   "metadata": {
    "collapsed": true,
    "ExecuteTime": {
     "end_time": "2025-08-31T08:49:56.014517Z",
     "start_time": "2025-08-31T08:49:53.012305Z"
    }
   },
   "source": [
    "import akshare as ak\n",
    "import pandas as pd\n",
    "\n",
    "# 获取光大银行（601818）前复权日线行情\n",
    "def get_stock_data(symbol: str = \"601818\", adjust: str = \"qfq\"):\n",
    "    \"\"\"\n",
    "    获取A股个股前复权行情数据\n",
    "    :param symbol: 股票代码，如 '601818'\n",
    "    :param adjust: 复权类型，'qfq' 表示前复权\n",
    "    :return: pandas.DataFrame\n",
    "    \"\"\"\n",
    "    try:\n",
    "        df = ak.stock_zh_a_hist(symbol=symbol, period=\"daily\", adjust=adjust)\n",
    "        if df.empty:\n",
    "            raise ValueError(f\"股票 {symbol} 数据为空\")\n",
    "\n",
    "        # 重命名列，更符合量化习惯\n",
    "        df.rename(columns={\n",
    "            '日期': 'date',\n",
    "            '开盘': 'open',\n",
    "            '收盘': 'close',\n",
    "            '最高': 'high',\n",
    "            '最低': 'low',\n",
    "            '成交量': 'volume',\n",
    "            '成交额': 'amount',\n",
    "            '涨跌幅': 'pct_change'\n",
    "        }, inplace=True)\n",
    "\n",
    "        # 转换日期为 datetime 类型并设为索引\n",
    "        df['date'] = pd.to_datetime(df['date'])\n",
    "        df.set_index('date', inplace=True)\n",
    "\n",
    "        # 按时间排序\n",
    "        df.sort_index(inplace=True)\n",
    "\n",
    "        # 只保留核心字段\n",
    "        cols = ['open', 'close', 'high', 'low', 'volume', 'amount', 'pct_change']\n",
    "        df = df[cols]\n",
    "\n",
    "        return df\n",
    "\n",
    "    except Exception as e:\n",
    "        print(f\"获取股票 {symbol} 数据失败: {e}\")\n",
    "        return pd.DataFrame()\n",
    "\n",
    "# 调用函数\n",
    "data = get_stock_data(\"601818\", adjust=\"qfq\")\n",
    "\n",
    "# 查看前5行\n",
    "print(data.tail())\n"
   ],
   "outputs": [
    {
     "name": "stdout",
     "output_type": "stream",
     "text": [
      "            open  close  high   low   volume        amount  pct_change\n",
      "date                                                                  \n",
      "2025-08-25  3.95   4.00  4.01  3.94  2100686  8.357835e+08        1.27\n",
      "2025-08-26  4.00   3.96  4.00  3.95  1438732  5.709100e+08       -1.00\n",
      "2025-08-27  3.95   3.85  3.96  3.85  2950637  1.150468e+09       -2.78\n",
      "2025-08-28  3.86   3.85  3.89  3.82  2137813  8.243579e+08        0.00\n",
      "2025-08-29  3.85   3.78  3.94  3.77  5588273  2.145113e+09       -1.82\n"
     ]
    }
   ],
   "execution_count": 1
  }
 ],
 "metadata": {
  "kernelspec": {
   "display_name": "Python 3",
   "language": "python",
   "name": "python3"
  },
  "language_info": {
   "codemirror_mode": {
    "name": "ipython",
    "version": 2
   },
   "file_extension": ".py",
   "mimetype": "text/x-python",
   "name": "python",
   "nbconvert_exporter": "python",
   "pygments_lexer": "ipython2",
   "version": "2.7.6"
  }
 },
 "nbformat": 4,
 "nbformat_minor": 5
}
